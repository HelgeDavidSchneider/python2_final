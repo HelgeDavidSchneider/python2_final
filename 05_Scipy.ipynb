{
 "cells": [
  {
   "cell_type": "markdown",
   "metadata": {},
   "source": [
    "# 05 Scipy"
   ]
  },
  {
   "cell_type": "markdown",
   "metadata": {},
   "source": [
    "**For a better understanding of this notebook, the 03 Scipy and 04 Scipy notebook should be known.**   \n",
    "As a last topic from the Scipy stack, computational geometry well be put to focus. This is the link form a maths-related scientific toolbox to the more applied and GIS related packages like GDAL, shapely or fiona. Similar to integration or differentiation problems covered in the **04 Scipy** notebook, geometric tasks can be solved on a symbolic or numerical basis using the scipy stack."
   ]
  },
  {
   "cell_type": "code",
   "execution_count": 1,
   "metadata": {
    "collapsed": false
   },
   "outputs": [],
   "source": [
    "%matplotlib inline\n",
    "import numpy as np\n",
    "import sympy\n",
    "import matplotlib.pyplot as plt\n",
    "from matplotlib import patches"
   ]
  },
  {
   "cell_type": "markdown",
   "metadata": {},
   "source": [
    "### symbolic geometry"
   ]
  },
  {
   "cell_type": "markdown",
   "metadata": {},
   "source": [
    "The term *symbolic geometry* is not mathematically correct but based on the similarity to other scipy modules. Using the sympy package, geometric problems can be solved analytically by solving geometric equations, which even allows another equation as a solution. Similar to the integration solver introduced in **04 Scipy** these solutions might be very resource consumptive and awkward. Nevertheless, sympy is really helpful for developing an in-depth understanding of geometric equations or models"
   ]
  },
  {
   "cell_type": "code",
   "execution_count": 2,
   "metadata": {
    "collapsed": false
   },
   "outputs": [],
   "source": [
    "from sympy.geometry import *"
   ]
  },
  {
   "cell_type": "markdown",
   "metadata": {},
   "source": [
    "Let's create and plot some basic geometries before heading to calculations."
   ]
  },
  {
   "cell_type": "code",
   "execution_count": 3,
   "metadata": {
    "collapsed": false
   },
   "outputs": [],
   "source": [
    "# points\n",
    "p1 = Point(0,0)\n",
    "p2 = Point(1,1)\n",
    "p3 = Point(2,2)\n",
    "p4 = Point(1,0)\n",
    "\n",
    "# line \n",
    "l = Line(Point(0,2), Point(3,2))\n",
    "\n",
    "# circle\n",
    "c = Circle(p2, 2)\n",
    "\n",
    "# Triangle\n",
    "t = Triangle(p1,p2,p4)"
   ]
  },
  {
   "cell_type": "code",
   "execution_count": 4,
   "metadata": {
    "collapsed": false
   },
   "outputs": [
    {
     "data": {
      "text/plain": [
       "(-2, 4)"
      ]
     },
     "execution_count": 4,
     "metadata": {},
     "output_type": "execute_result"
    },
    {
     "data": {
      "image/png": "[encoded data removed]",
      "text/plain": [
       "<matplotlib.figure.Figure at 0x7f3fc3b2d780>"
      ]
     },
     "metadata": {},
     "output_type": "display_data"
    }
   ],
   "source": [
    "# create PatchArtist from the sympy objects\n",
    "\n",
    "fig, ax = plt.subplots(1,1, figsize=(6,6))\n",
    "\n",
    "ax.add_patch(patches.Circle(c.center, c.radius, edgecolor='y', facecolor='y', alpha=0.3))\n",
    "ax.add_patch(patches.Polygon([tuple(p1), tuple(p2), tuple(p4)], edgecolor='r', facecolor='r', alpha=0.3))\n",
    "\n",
    "plt.xlim(-2,4)\n",
    "plt.ylim(-2,4)"
   ]
  },
  {
   "cell_type": "markdown",
   "metadata": {},
   "source": [
    "As plotting using matplotlib seems to be complicated, the sympy module offers its own plotting library which could not be used with an inline backend for jupyter notebooks as of this writing. Nevertheless, using the sympy geometry module brings some advantages when it comes to computation."
   ]
  },
  {
   "cell_type": "code",
   "execution_count": 5,
   "metadata": {
    "collapsed": false
   },
   "outputs": [
    {
     "name": "stdout",
     "output_type": "stream",
     "text": [
      "Triangle(Point2D(0, 0), Point2D(1, 1), Point2D(1, 0))\n"
     ]
    },
    {
     "data": {
      "image/svg+xml": [
       "<svg xmlns=\"http://www.w3.org/2000/svg\"\n",
       "            xmlns:xlink=\"http://www.w3.org/1999/xlink\"\n",
       "            width=\"100.0\" height=\"100.0\" viewBox=\"-0.100000000000000 -0.100000000000000 1.20000000000000 1.20000000000000\"\n",
       "            preserveAspectRatio=\"xMinYMin meet\">\n",
       "            <defs>\n",
       "                <marker id=\"markerCircle\" markerWidth=\"8\" markerHeight=\"8\"\n",
       "                    refx=\"5\" refy=\"5\" markerUnits=\"strokeWidth\">\n",
       "                    <circle cx=\"5\" cy=\"5\" r=\"1.5\" style=\"stroke: none; fill:#000000;\"/>\n",
       "                </marker>\n",
       "                <marker id=\"markerArrow\" markerWidth=\"13\" markerHeight=\"13\" refx=\"2\" refy=\"4\"\n",
       "                       orient=\"auto\" markerUnits=\"strokeWidth\">\n",
       "                    <path d=\"M2,2 L2,6 L6,4\" style=\"fill: #000000;\" />\n",
       "                </marker>\n",
       "                <marker id=\"markerReverseArrow\" markerWidth=\"13\" markerHeight=\"13\" refx=\"6\" refy=\"4\"\n",
       "                       orient=\"auto\" markerUnits=\"strokeWidth\">\n",
       "                    <path d=\"M6,2 L6,6 L2,4\" style=\"fill: #000000;\" />\n",
       "                </marker>\n",
       "            </defs><g transform=\"matrix(1,0,0,-1,0,1.00000000000000)\"><path fill-rule=\"evenodd\" fill=\"#66cc99\" stroke=\"#555555\" stroke-width=\"0.0240000000000000\" opacity=\"0.6\" d=\"M 0,0 L 1.00000000000000,1.00000000000000 L 1.00000000000000,0 z\" /></g></svg>"
      ],
      "text/plain": [
       "Triangle(Point2D(0, 0), Point2D(1, 1), Point2D(1, 0))"
      ]
     },
     "execution_count": 5,
     "metadata": {},
     "output_type": "execute_result"
    }
   ],
   "source": [
    "# the Geometries plot a nice reprensentation of themselves when latex compiling is available\n",
    "print(t)\n",
    "t"
   ]
  },
  {
   "cell_type": "code",
   "execution_count": 6,
   "metadata": {
    "collapsed": false
   },
   "outputs": [
    {
     "data": {
      "text/plain": [
       "-1/2"
      ]
     },
     "execution_count": 6,
     "metadata": {},
     "output_type": "execute_result"
    }
   ],
   "source": [
    "t.area"
   ]
  },
  {
   "cell_type": "code",
   "execution_count": 7,
   "metadata": {
    "collapsed": false
   },
   "outputs": [
    {
     "data": {
      "text/plain": [
       "4*pi"
      ]
     },
     "execution_count": 7,
     "metadata": {},
     "output_type": "execute_result"
    }
   ],
   "source": [
    "c.area"
   ]
  },
  {
   "cell_type": "code",
   "execution_count": 8,
   "metadata": {
    "collapsed": false
   },
   "outputs": [
    {
     "name": "stdout",
     "output_type": "stream",
     "text": [
      "p1,p2,p3 on one line? -  True\n",
      "p1,p2,p4 on one line? -  False\n"
     ]
    }
   ],
   "source": [
    "print('p1,p2,p3 on one line? - ', Point.is_collinear(p1,p2,p3))\n",
    "print('p1,p2,p4 on one line? - ', Point.is_collinear(p1,p2,p4))"
   ]
  },
  {
   "cell_type": "code",
   "execution_count": 9,
   "metadata": {
    "collapsed": false
   },
   "outputs": [
    {
     "data": {
      "text/plain": [
       "2*sqrt(2)"
      ]
     },
     "execution_count": 9,
     "metadata": {},
     "output_type": "execute_result"
    }
   ],
   "source": [
    "p1.distance(p3)"
   ]
  },
  {
   "cell_type": "code",
   "execution_count": 10,
   "metadata": {
    "collapsed": false
   },
   "outputs": [
    {
     "data": {
      "text/plain": [
       "sqrt(2)"
      ]
     },
     "execution_count": 10,
     "metadata": {},
     "output_type": "execute_result"
    }
   ],
   "source": [
    "t.distance(p3)"
   ]
  },
  {
   "cell_type": "code",
   "execution_count": 11,
   "metadata": {
    "collapsed": false
   },
   "outputs": [
    {
     "name": "stdout",
     "output_type": "stream",
     "text": [
      "Area: 5/2\n"
     ]
    },
    {
     "data": {
      "image/svg+xml": [
       "<svg xmlns=\"http://www.w3.org/2000/svg\"\n",
       "            xmlns:xlink=\"http://www.w3.org/1999/xlink\"\n",
       "            width=\"100.0\" height=\"100.0\" viewBox=\"-0.300000000000000 -0.300000000000000 2.60000000000000 3.60000000000000\"\n",
       "            preserveAspectRatio=\"xMinYMin meet\">\n",
       "            <defs>\n",
       "                <marker id=\"markerCircle\" markerWidth=\"8\" markerHeight=\"8\"\n",
       "                    refx=\"5\" refy=\"5\" markerUnits=\"strokeWidth\">\n",
       "                    <circle cx=\"5\" cy=\"5\" r=\"1.5\" style=\"stroke: none; fill:#000000;\"/>\n",
       "                </marker>\n",
       "                <marker id=\"markerArrow\" markerWidth=\"13\" markerHeight=\"13\" refx=\"2\" refy=\"4\"\n",
       "                       orient=\"auto\" markerUnits=\"strokeWidth\">\n",
       "                    <path d=\"M2,2 L2,6 L6,4\" style=\"fill: #000000;\" />\n",
       "                </marker>\n",
       "                <marker id=\"markerReverseArrow\" markerWidth=\"13\" markerHeight=\"13\" refx=\"6\" refy=\"4\"\n",
       "                       orient=\"auto\" markerUnits=\"strokeWidth\">\n",
       "                    <path d=\"M6,2 L6,6 L2,4\" style=\"fill: #000000;\" />\n",
       "                </marker>\n",
       "            </defs><g transform=\"matrix(1,0,0,-1,0,3.00000000000000)\"><path fill-rule=\"evenodd\" fill=\"#66cc99\" stroke=\"#555555\" stroke-width=\"0.0720000000000000\" opacity=\"0.6\" d=\"M 0,0 L 1.00000000000000,1.00000000000000 L 2.00000000000000,1.00000000000000 L 1.00000000000000,3.00000000000000 L 0,1.00000000000000 z\" /></g></svg>"
      ],
      "text/plain": [
       "Polygon(Point2D(0, 0), Point2D(1, 1), Point2D(2, 1), Point2D(1, 3), Point2D(0, 1))"
      ]
     },
     "execution_count": 11,
     "metadata": {},
     "output_type": "execute_result"
    }
   ],
   "source": [
    "poly = Polygon(Point(0, 0), Point(1,1), Point(2,1), Point(1,3), Point(0,1))\n",
    "print('Area:', poly.area)\n",
    "poly"
   ]
  },
  {
   "cell_type": "code",
   "execution_count": 12,
   "metadata": {
    "collapsed": false
   },
   "outputs": [
    {
     "data": {
      "text/plain": [
       "{Point2D(0, 1): acos(-2*sqrt(5)/5),\n",
       " Point2D(1, 3): acos(3/5),\n",
       " Point2D(0, 0): pi/4,\n",
       " Point2D(1, 1): 5*pi/4,\n",
       " Point2D(2, 1): acos(sqrt(5)/5)}"
      ]
     },
     "execution_count": 12,
     "metadata": {},
     "output_type": "execute_result"
    }
   ],
   "source": [
    "poly.angles"
   ]
  },
  {
   "cell_type": "code",
   "execution_count": 13,
   "metadata": {
    "collapsed": false
   },
   "outputs": [
    {
     "data": {
      "text/plain": [
       "False"
      ]
     },
     "execution_count": 13,
     "metadata": {},
     "output_type": "execute_result"
    }
   ],
   "source": [
    "poly.contains(t)"
   ]
  },
  {
   "cell_type": "code",
   "execution_count": 14,
   "metadata": {
    "collapsed": false
   },
   "outputs": [
    {
     "data": {
      "text/plain": [
       "True"
      ]
     },
     "execution_count": 14,
     "metadata": {},
     "output_type": "execute_result"
    }
   ],
   "source": [
    "poly2 = Polygon(Point(0,0), Point(1,1), Point(1,3), Point(0,1))\n",
    "poly.contains(poly)"
   ]
  },
  {
   "cell_type": "code",
   "execution_count": 15,
   "metadata": {
    "collapsed": false
   },
   "outputs": [
    {
     "name": "stdout",
     "output_type": "stream",
     "text": [
      "Line(Point2D(0, 0), Point2D(1, 0)) x Line(Point2D(0, 0), Point2D(1, 1))\n"
     ]
    }
   ],
   "source": [
    "l1 = Line(Point(0, 0), Point(1, 0))\n",
    "l2 = Line(Point(0, 0), Point(1,1))\n",
    "product =  l1 * l2 \n",
    "print(product)"
   ]
  },
  {
   "cell_type": "markdown",
   "metadata": {},
   "source": [
    "##### excercise"
   ]
  },
  {
   "cell_type": "markdown",
   "metadata": {},
   "source": [
    "Use the *poly* object to apply a triangulation by hand. Split the polygon into a various number of right triangles. Check your results by comparing the polygon area to the sum of all triangle areas. Perform a second check, which will test each triangle for being a right angle. Solve the checks in a single conditional each."
   ]
  },
  {
   "cell_type": "code",
   "execution_count": 16,
   "metadata": {
    "collapsed": false
   },
   "outputs": [
    {
     "name": "stdout",
     "output_type": "stream",
     "text": [
      "Eqaul area?   True\n",
      "Right angles? True\n"
     ]
    }
   ],
   "source": [
    "## Solution\n",
    "t1 = Triangle(Point(0, 0), Point(1, 1), Point(0, 1))\n",
    "t2 = Triangle(Point(0, 1), Point(1, 1), Point(1, 3))\n",
    "t3 = Triangle(Point(1, 1), Point(2, 1), Point(1, 3))\n",
    "\n",
    "# check one:\n",
    "print('Eqaul area?  ', t1.area + t2.area + t3.area == poly.area)\n",
    "# check two:\n",
    "print('Right angles?', all([sympy.rad(90) in tri.angles.values() for tri in (t1, t2, t3)]))"
   ]
  },
  {
   "cell_type": "markdown",
   "metadata": {
    "collapsed": false
   },
   "source": [
    "### numerical geometry"
   ]
  },
  {
   "cell_type": "markdown",
   "metadata": {},
   "source": [
    "While the sympy package does always solve trigonometric functions to return the exact result, *numerical geometry* means the approximation of results in order to simplify results, decrease computational consumption and perform higher geometric tasks on the entities, that would not be solvable (or too intensive) when working on exact results.   \n",
    "One library for solving these tasks is the shapely library. This library goes way beyond solving simple trigonometric functions. Shapely incorporates high level geometric procedures and offers a number of interfaces to common GIS-related file formats and libraries."
   ]
  },
  {
   "cell_type": "markdown",
   "metadata": {},
   "source": [
    "On the other hand shaply is closer to GIS libraries as implementing only a few basic geometric data types like a Point, Line or Polygon. More specific types like a Triangle or Circle are not implemented and have to be approximated.\n",
    "Let's at first import the Polygon class and compare a shapely instance to the sympy instance"
   ]
  },
  {
   "cell_type": "code",
   "execution_count": 17,
   "metadata": {
    "collapsed": false
   },
   "outputs": [],
   "source": [
    "from shapely.geometry.polygon import Polygon as shapely_Polygon\n",
    "from sympy import Polygon as sympy_Polygon"
   ]
  },
  {
   "cell_type": "code",
   "execution_count": 18,
   "metadata": {
    "collapsed": false
   },
   "outputs": [
    {
     "name": "stdout",
     "output_type": "stream",
     "text": [
      "POLYGON ((0 0, 1 1, 2 1, 1 3, 0 1, 0 0))\n",
      "Area: 2.5\n"
     ]
    }
   ],
   "source": [
    "Poly = shapely_Polygon([point.args for point in poly.args])\n",
    "print(Poly)\n",
    "print('Area:', Poly.area)"
   ]
  },
  {
   "cell_type": "code",
   "execution_count": 19,
   "metadata": {
    "collapsed": false
   },
   "outputs": [
    {
     "name": "stdout",
     "output_type": "stream",
     "text": [
      "The slowest run took 12.40 times longer than the fastest. This could mean that an intermediate result is being cached.\n",
      "10000 loops, best of 3: 30.8 µs per loop\n",
      "The slowest run took 10.60 times longer than the fastest. This could mean that an intermediate result is being cached.\n",
      "100000 loops, best of 3: 2.29 µs per loop\n"
     ]
    }
   ],
   "source": [
    "%timeit poly.area\n",
    "%timeit Poly.area"
   ]
  },
  {
   "cell_type": "markdown",
   "metadata": {},
   "source": [
    "Approximating the area is even for this very easy example more than 10 times faster than  deriving an excat solution."
   ]
  },
  {
   "cell_type": "code",
   "execution_count": 20,
   "metadata": {
    "collapsed": false
   },
   "outputs": [
    {
     "name": "stdout",
     "output_type": "stream",
     "text": [
      "Sympy:       -25/2 - 2*pi\n",
      "Shapely:      18.783185307179586\n",
      "Solve Sympy: -18.7831853071796\n"
     ]
    }
   ],
   "source": [
    "p = sympy_Polygon(Point(0, 0), Point(0.5*sympy.pi, 7), Point(5,8), Point(sympy.pi, 2))\n",
    "P = shapely_Polygon([point.args for point in p.args])\n",
    "\n",
    "print('Sympy:      ', p.area)\n",
    "print('Shapely:     ', P.area)\n",
    "print('Solve Sympy:', p.area.evalf())"
   ]
  },
  {
   "cell_type": "code",
   "execution_count": 21,
   "metadata": {
    "collapsed": false
   },
   "outputs": [
    {
     "name": "stdout",
     "output_type": "stream",
     "text": [
      "The slowest run took 4.25 times longer than the fastest. This could mean that an intermediate result is being cached.\n",
      "100 loops, best of 3: 5.78 ms per loop\n",
      "The slowest run took 10.13 times longer than the fastest. This could mean that an intermediate result is being cached.\n",
      "100000 loops, best of 3: 2.26 µs per loop\n"
     ]
    }
   ],
   "source": [
    "%timeit p.area\n",
    "%timeit P.area"
   ]
  },
  {
   "cell_type": "markdown",
   "metadata": {},
   "source": [
    "A triangle can easily be derived by creating a Polygon. Opposite to common GIS definitions, where a Polygon has to have at least 4 edges, a 3 edged Polygon is fine for shapely. Creating a Circle is more tricky:"
   ]
  },
  {
   "cell_type": "code",
   "execution_count": 22,
   "metadata": {
    "collapsed": false
   },
   "outputs": [
    {
     "name": "stdout",
     "output_type": "stream",
     "text": [
      "Circle(Point2D(1, 1), 2)\n"
     ]
    }
   ],
   "source": [
    "print(c)"
   ]
  },
  {
   "cell_type": "markdown",
   "metadata": {},
   "source": [
    "We need a Circle with center (1 1) and a radius of 2:"
   ]
  },
  {
   "cell_type": "code",
   "execution_count": 23,
   "metadata": {
    "collapsed": false
   },
   "outputs": [
    {
     "name": "stdout",
     "output_type": "stream",
     "text": [
      "POLYGON ((3 1, 2.990369453344394 0.803965719340879, 2.961570560806461 0.6098193559677438, 2.913880671464418 0.4194306454910758, 2.847759065022574 0.2346331352698212, 2.763842528696711 0.0572065263480056, 2.662939224605091 -0.1111404660392035, 2.546020906725475 -0.2687865683272899, 2.414213562373096 -0.4142135623730938, 2.268786568327292 -0.5460209067254727, 2.111140466039206 -0.6629392246050894, 1.942793473651997 -0.763842528696709, 1.765366864730182 -0.8477590650225726, 1.580569354508927 -0.913880671464417, 1.390180644032259 -0.9615705608064604, 1.196034280659124 -0.9903694533443934, 1.000000000000003 -1, 0.8039657193408822 -0.9903694533443941, 0.6098193559677471 -0.9615705608064615, 0.419430645491079 -0.9138806714644188, 0.2346331352698243 -0.847759065022575, 0.0572065263480086 -0.7638425286967121, -0.111140466039201 -0.6629392246050927, -0.2687865683272879 -0.5460209067254764, -0.4142135623730925 -0.4142135623730976, -0.5460209067254718 -0.2687865683272936, -0.6629392246050887 -0.1111404660392072, -0.7638425286967085 0.05720652634800194, -0.8477590650225724 0.2346331352698178, -0.913880671464417 0.4194306454910727, -0.9615705608064604 0.6098193559677411, -0.9903694533443936 0.8039657193408766, -1 0.999999999999998, -0.9903694533443939 1.196034280659119, -0.9615705608064613 1.390180644032255, -0.9138806714644181 1.580569354508923, -0.8477590650225739 1.765366864730178, -0.7638425286967105 1.942793473651995, -0.6629392246050909 2.111140466039204, -0.5460209067254742 2.268786568327291, -0.4142135623730954 2.414213562373095, -0.2687865683272919 2.546020906725473, -0.1111404660392059 2.66293922460509, 0.05720652634800261 2.763842528696709, 0.2346331352698177 2.847759065022572, 0.4194306454910718 2.913880671464417, 0.6098193559677392 2.96157056080646, 0.8039657193408738 2.990369453344393, 0.9999999999999943 3, 1.196034280659115 2.990369453344394, 1.39018064403225 2.961570560806462, 1.580569354508917 2.91388067146442, 1.765366864730172 2.847759065022577, 1.942793473651987 2.763842528696714, 2.111140466039196 2.662939224605096, 2.268786568327283 2.54602090672548, 2.414213562373087 2.414213562373103, 2.546020906725467 2.2687865683273, 2.662939224605084 2.111140466039215, 2.763842528696704 1.942793473652007, 2.847759065022568 1.765366864730192, 2.913880671464414 1.580569354508939, 2.961570560806458 1.390180644032271, 2.990369453344393 1.196034280659137, 3 1.000000000000016, 3 1))\n"
     ]
    }
   ],
   "source": [
    "from shapely.geometry.point import Point as shapely_Point\n",
    "\n",
    "C = shapely_Point((1, 1)).buffer(2)\n",
    "print(C)"
   ]
  },
  {
   "cell_type": "code",
   "execution_count": 24,
   "metadata": {
    "collapsed": false
   },
   "outputs": [
    {
     "name": "stdout",
     "output_type": "stream",
     "text": [
      "Sympy Area:   4*pi \tsolved:\t 12.5663706143592\n",
      "Shapely Area:\t\t\t 12.546193962183754\n"
     ]
    }
   ],
   "source": [
    "print('Sympy Area:  ', c.area, '\\tsolved:\\t', c.area.evalf())\n",
    "print('Shapely Area:\\t\\t\\t', C.area)"
   ]
  },
  {
   "cell_type": "code",
   "execution_count": 25,
   "metadata": {
    "collapsed": false
   },
   "outputs": [
    {
     "name": "stdout",
     "output_type": "stream",
     "text": [
      "100 loops, best of 3: 3.52 ms per loop\n",
      "The slowest run took 9.42 times longer than the fastest. This could mean that an intermediate result is being cached.\n",
      "100000 loops, best of 3: 2.6 µs per loop\n"
     ]
    }
   ],
   "source": [
    "%timeit c.area.evalf()\n",
    "%timeit C.area"
   ]
  },
  {
   "cell_type": "markdown",
   "metadata": {},
   "source": [
    "### Computational Geometry"
   ]
  },
  {
   "cell_type": "markdown",
   "metadata": {},
   "source": [
    "Most of the given examples can easily be solved with a pen and paper. Sometimes even faster. The real benefit of using shapely or the scipy stack are intense computational tasks, like a triangulation, complex intersections, buffering of polygons or shortest path problems, which are closely related to mathematical graphs and network analysis.   \n",
    "This notebook will only give insides on the very basics. For shifting from basic geometry to a proper GIS application written in Python the GIS++ lecture (each summer term at FeLis) is the appropriate lecture."
   ]
  },
  {
   "cell_type": "markdown",
   "metadata": {},
   "source": [
    "##### Convex Hull"
   ]
  },
  {
   "cell_type": "markdown",
   "metadata": {},
   "source": [
    "Let's start with the *Hello World* example of computational geometry: The Convex Hull. Without going too much into details, the convex hull is the minimum set of nodes needed to describe a finite population of nodes in a euclidean plane. We will limit this to a two dimensional case and not examine the actual algorithm. Just use three different approaches to calculate a convex hull."
   ]
  },
  {
   "cell_type": "code",
   "execution_count": 26,
   "metadata": {
    "collapsed": false
   },
   "outputs": [],
   "source": [
    "from sympy.geometry import convex_hull\n",
    "from scipy.spatial import ConvexHull"
   ]
  },
  {
   "cell_type": "code",
   "execution_count": 27,
   "metadata": {
    "collapsed": false
   },
   "outputs": [
    {
     "data": {
      "text/plain": [
       "<matplotlib.collections.PathCollection at 0x7f3fbd585630>"
      ]
     },
     "execution_count": 27,
     "metadata": {},
     "output_type": "execute_result"
    },
    {
     "data": {
      "image/png": "[encoded data removed]",
      "text/plain": [
       "<matplotlib.figure.Figure at 0x7f3fbd9f8e80>"
      ]
     },
     "metadata": {},
     "output_type": "display_data"
    }
   ],
   "source": [
    "# create a random set of points, not normal distributed\n",
    "np.random.seed(42)\n",
    "nodes = np.random.gamma(10, 2, size=(20,2))\n",
    "\n",
    "# plot\n",
    "plt.scatter(nodes[:,0], nodes[:,1], 30)"
   ]
  },
  {
   "cell_type": "markdown",
   "metadata": {},
   "source": [
    "For solving the Convex Hull problem using sympy, we have to convert the nodes into a list of points."
   ]
  },
  {
   "cell_type": "code",
   "execution_count": 28,
   "metadata": {
    "collapsed": false
   },
   "outputs": [
    {
     "name": "stdout",
     "output_type": "stream",
     "text": [
      "Polygon(Point2D(60972835339031/5000000000000, 41166968480509/2000000000000), Point2D(18212886440957/1250000000000, 174736098044783/10000000000000), Point2D(1304830242119/62500000000, 970963643860821/100000000000000), Point2D(9964975101427/400000000000, 5076842639831/400000000000), Point2D(149771008433929/5000000000000, 22453885421927/1250000000000), Point2D(2414821733583/78125000000, 122544211063351/5000000000000), Point2D(66197746731423/2500000000000, 12860849858341/500000000000), Point2D(8304047545979/500000000000, 133399682754239/5000000000000))\n"
     ]
    }
   ],
   "source": [
    "ch = convex_hull(*[Point(node) for node in nodes])\n",
    "print(ch)"
   ]
  },
  {
   "cell_type": "code",
   "execution_count": 29,
   "metadata": {
    "collapsed": false
   },
   "outputs": [
    {
     "name": "stdout",
     "output_type": "stream",
     "text": [
      "[[14 11]\n",
      " [18 11]\n",
      " [18  4]\n",
      " [ 6  2]\n",
      " [17  2]\n",
      " [17 14]\n",
      " [10  4]\n",
      " [10  6]]\n"
     ]
    }
   ],
   "source": [
    "CH = ConvexHull(nodes)\n",
    "print(CH.simplices)"
   ]
  },
  {
   "cell_type": "code",
   "execution_count": 30,
   "metadata": {
    "collapsed": false
   },
   "outputs": [
    {
     "data": {
      "text/plain": [
       "<matplotlib.patches.Polygon at 0x7f3fbd45cbe0>"
      ]
     },
     "execution_count": 30,
     "metadata": {},
     "output_type": "execute_result"
    },
    {
     "data": {
      "image/png": "[encoded data removed]",
      "text/plain": [
       "<matplotlib.figure.Figure at 0x7f3fbd4d26d8>"
      ]
     },
     "metadata": {},
     "output_type": "display_data"
    }
   ],
   "source": [
    "# plot\n",
    "fig, axes = plt.subplots(1,2, figsize=(12,6))\n",
    "\n",
    "# Scipy solution\n",
    "axes[0].scatter(nodes[:,0], nodes[:,1], 30)\n",
    "for simp in CH.simplices:\n",
    "    axes[0].plot(CH.points[simp][:,0], CH.points[simp][:,1], '-b')\n",
    "    \n",
    "# sympy solution\n",
    "axes[1].scatter(nodes[:,0], nodes[:,1], 30, color='g')\n",
    "polypatch = patches.Polygon(np.array([_.evalf().args for _ in ch.args]), edgecolor='g', fill=False)\n",
    "axes[1].add_patch(polypatch)"
   ]
  },
  {
   "cell_type": "markdown",
   "metadata": {},
   "source": [
    "Both methods seem to be fine, each one with a preferred way to be plotted, although the plotting logic can be switched. One can easily convert the simplices of the scipy ConvexHull to a Polygon Patch and plot the lines between two sympy Point instances directly. The real difference is again the performance"
   ]
  },
  {
   "cell_type": "code",
   "execution_count": 31,
   "metadata": {
    "collapsed": false
   },
   "outputs": [
    {
     "name": "stdout",
     "output_type": "stream",
     "text": [
      "1 loop, best of 3: 3.79 s per loop\n",
      "10000 loops, best of 3: 116 µs per loop\n"
     ]
    }
   ],
   "source": [
    "np.random.seed(42)\n",
    "%timeit convex_hull(*[Point(_) for _ in np.random.gamma(10, 2, size=(100, 2))])\n",
    "%timeit ConvexHull(np.random.gamma(10, 2, size=(100, 2)))"
   ]
  },
  {
   "cell_type": "markdown",
   "metadata": {},
   "source": [
    "##### Triangulation"
   ]
  },
  {
   "cell_type": "markdown",
   "metadata": {},
   "source": [
    "Triangulation means representing a finite plane only by triangle geometries by *cutting* the plane into pieces. There are literally hundreds of different algorithms that do not only differ in performance. Most algorithms will return a collection of triangles with very specific properties.   \n",
    "Historically triangluation played a very important role in plotting planes, as even a few years ago with less powerful computers it was possible to plot a triangle in three dimensions with limited resources. Therfore plotting a set of triangles was less consumptive, than fitting a plane function to some points.    \n",
    "Triangulations is still used to approximate the area of a polygon. Doing so, an algorithms is required that will only calculate triangles of a minimum area. In other cases the triangles shall not be too big as for example regional statistics is performed based on the triangles.   \n",
    "Thinking of a triangle network as a mathematical network to be solved, a major requirement to the network is to make the inner angles of the triangles as big as possible as this would minimize rounding errors. Here, the Delaunay triangulation fits exactly this requirement as it fulfills the *circumcurcle rule*."
   ]
  },
  {
   "cell_type": "code",
   "execution_count": 32,
   "metadata": {
    "collapsed": false
   },
   "outputs": [
    {
     "data": {
      "text/plain": [
       "[<matplotlib.lines.Line2D at 0x7f3fbce02e10>]"
      ]
     },
     "execution_count": 32,
     "metadata": {},
     "output_type": "execute_result"
    },
    {
     "data": {
      "image/png": "[encoded data removed]",
      "text/plain": [
       "<matplotlib.figure.Figure at 0x7f3fbd298198>"
      ]
     },
     "metadata": {},
     "output_type": "display_data"
    }
   ],
   "source": [
    "from scipy.spatial import Delaunay\n",
    "\n",
    "# calculate the Delaunay triangles\n",
    "delaunay = Delaunay(nodes)\n",
    "\n",
    "# plot\n",
    "fig, ax = plt.subplots(1,1)\n",
    "\n",
    "for simp in delaunay.simplices:\n",
    "    ax.plot(delaunay.points[simp][:,0], delaunay.points[simp][:,1], '-r')\n",
    "ax.plot(nodes[:,0], nodes[:,1], 'ob', markersize=7)"
   ]
  },
  {
   "cell_type": "markdown",
   "metadata": {},
   "source": [
    "##### exercise "
   ]
  },
  {
   "cell_type": "markdown",
   "metadata": {},
   "source": [
    "Compare the area of the finite plane using the sympy representation and the area calculated by the delaunay triangulation. Evaluate the Delaunay triangles numerically"
   ]
  },
  {
   "cell_type": "code",
   "execution_count": 33,
   "metadata": {
    "collapsed": false
   },
   "outputs": [
    {
     "name": "stdout",
     "output_type": "stream",
     "text": [
      "Delaunay area:  200.508108501\n",
      "Sympy area:     200.508108501493\n"
     ]
    }
   ],
   "source": [
    "# SOLUTION\n",
    "print('Delaunay area: ', np.sum([shapely_Polygon(delaunay.points[simp]).area for simp in delaunay.simplices]))\n",
    "print('Sympy area:    ', ch.area.evalf())"
   ]
  },
  {
   "cell_type": "markdown",
   "metadata": {},
   "source": [
    "##### Shortest Path"
   ]
  },
  {
   "cell_type": "markdown",
   "metadata": {},
   "source": [
    "Solving a *shortest path* problem is a very common task in computational geometry. A very common application are navigation systems. Generally spoken, a *shortest path* is the connection of two **vertices** (here: the nodes) in a mathematical network connected by the **edges** (here: the simplices) of least cost. Where the cost of a edge is expressed as a weight.   \n",
    "In the navigation application the edge weights are either the distances or the transit time, depending on wether the shortest or the fastest path is needed. Once understood how a mathematical network can be solved, we can modify the weights to fit our needs."
   ]
  },
  {
   "cell_type": "markdown",
   "metadata": {},
   "source": [
    "There is a number of different algorithms for solving a shortest path in a mathematical network. Some of them are:\n",
    "  * Floyd-Warshall algorithm\n",
    "  * Dijkstra algorithm\n",
    "  * Bellman-Ford alogrithm\n",
    "  * Johnson's algorithm\n",
    "\n",
    "Where Floyd and Dijkstra use positive weights while Bellman and Johnson's use negative weights. In the scipy implementation, Dijkstra and Johnson's cannot solve the graph for direction dependend edges.   \n",
    "**Note:** these algorithms will then solve the network with an icorrect result and do not throw an exception!"
   ]
  },
  {
   "cell_type": "code",
   "execution_count": 34,
   "metadata": {
    "collapsed": true
   },
   "outputs": [],
   "source": [
    "from scipy.sparse.csgraph import dijkstra, floyd_warshall, bellman_ford, johnson\n",
    "from scipy.spatial.distance import pdist, squareform"
   ]
  },
  {
   "cell_type": "markdown",
   "metadata": {},
   "source": [
    "Usually, you would import an street network an convert it into the apropiate data types to handle them in Python. The actual lenghts of the different routable street segments can be calculated in a GIS software or using the GDAL  or shapely library in Python. In the graph all vertices will be connected by strait lines, not by the geometry of the segment. Therefore two edges might have the same length in the graph but not the same weight as their real world lengths differ.   \n",
    "Here, we will use the edge lengths as the distances in order to keep things simple. Think of the graph as a city containing only strait streets and no curves. However, no matter what the streets look like, the procedure and the math behind it will always stay the same.   \n",
    "Therefore, we will use the Delaunay triangle edges as the network edges."
   ]
  },
  {
   "cell_type": "code",
   "execution_count": 35,
   "metadata": {
    "collapsed": false
   },
   "outputs": [
    {
     "name": "stdout",
     "output_type": "stream",
     "text": [
      "True\n",
      "N of edges: 63\n"
     ]
    }
   ],
   "source": [
    "# convert the triangle edges into segments.\n",
    "segments = list()\n",
    "\n",
    "for simp in delaunay.simplices:\n",
    "    segments.extend([(simp[0], simp[1]), (simp[0], simp[2]), (simp[1], simp[2])])\n",
    "print(len(delaunay.simplices) * 3 == len(segments))\n",
    "\n",
    "# remove duplicates\n",
    "edges = list(set(segments))\n",
    "print('N of edges:', len(edges))"
   ]
  },
  {
   "cell_type": "markdown",
   "metadata": {},
   "source": [
    "Secondly, we need a distance matrix, where we can look up the distances for two vertices. We will use the distances as weights directly. For comparison reasons we do not only use the euclidean distance, but also the manhattan distance."
   ]
  },
  {
   "cell_type": "code",
   "execution_count": 36,
   "metadata": {
    "collapsed": false
   },
   "outputs": [],
   "source": [
    "# euclidean distance\n",
    "distance_eu = squareform(pdist(nodes, metric='euclidean'))\n",
    "distance_ma = squareform(pdist(nodes, metric='cityblock'))"
   ]
  },
  {
   "cell_type": "code",
   "execution_count": 37,
   "metadata": {
    "collapsed": false
   },
   "outputs": [
    {
     "name": "stdout",
     "output_type": "stream",
     "text": [
      "Node 11: [ 12.19456707  20.58348424] Node 19: [ 16.50415755  18.20168594]\n"
     ]
    }
   ],
   "source": [
    "# check the distance for two vertices:\n",
    "print('Node 11:', nodes[11], 'Node 19:', nodes[19])"
   ]
  },
  {
   "cell_type": "markdown",
   "metadata": {},
   "source": [
    "##### exercise"
   ]
  },
  {
   "cell_type": "markdown",
   "metadata": {},
   "source": [
    "calculate the distance by hand:"
   ]
  },
  {
   "cell_type": "code",
   "execution_count": 38,
   "metadata": {
    "collapsed": false
   },
   "outputs": [
    {
     "data": {
      "text/plain": [
       "4.9239753554120398"
      ]
     },
     "execution_count": 38,
     "metadata": {},
     "output_type": "execute_result"
    }
   ],
   "source": [
    "# SOLUTION\n",
    "np.sqrt( (nodes[11][0] - nodes[19][0])**2 + (nodes[11][1] - nodes[19][1])**2 )"
   ]
  },
  {
   "cell_type": "code",
   "execution_count": 39,
   "metadata": {
    "collapsed": false
   },
   "outputs": [
    {
     "name": "stdout",
     "output_type": "stream",
     "text": [
      "euclidean: 4.92397535541\n",
      "manhattan: 6.69138878774\n"
     ]
    }
   ],
   "source": [
    "print('euclidean:' ,distance_eu[11,19])\n",
    "print('manhattan:', distance_ma[11,19])"
   ]
  },
  {
   "cell_type": "markdown",
   "metadata": {},
   "source": [
    "The last step is to set up the weight matrix. At the moment the distance matrix convers all point combinations. But the network does not define a edge between any combination of vertices. Therefore we need to define a matrix with all allowed edges and their weights. In case we want to punish several edges or cut them out of the graph, we could just remove them from the weight matrix. This matrix will be called the cs_matrix."
   ]
  },
  {
   "cell_type": "code",
   "execution_count": 40,
   "metadata": {
    "collapsed": false
   },
   "outputs": [
    {
     "name": "stdout",
     "output_type": "stream",
     "text": [
      "[[        nan  4.71080554         nan  7.4777414          nan]\n",
      " [ 4.71080554         nan         nan  5.17410167         nan]\n",
      " [        nan         nan         nan         nan         nan]\n",
      " [ 7.4777414   5.17410167         nan         nan         nan]\n",
      " [        nan         nan         nan         nan         nan]]\n"
     ]
    }
   ],
   "source": [
    "# create an empty matrix\n",
    "cs = np.zeros(distance_eu.shape)\n",
    "\n",
    "# each segment defines the indices of the edges\n",
    "for seg in segments:\n",
    "    cs[seg] = distance_eu[seg]\n",
    "    cs[seg[::-1]] = distance_eu[seg]\n",
    "    \n",
    "# convert the 0.0 weights into NaNs to remove these edges\n",
    "cs[cs == 0.0] = np.NaN\n",
    "\n",
    "print(cs[:5, :5])"
   ]
  },
  {
   "cell_type": "markdown",
   "metadata": {},
   "source": [
    "At first we use the Dijkstra algorithm. For larger networks this might be slow, but for 20 vertices and 63 edges it's fine. The function, like any of the others, will return either one or two matrices. The first one gives the smallest weights connection for any valid point combination, which is here already the shortest path distance. The second matrix is only returned if requested and will contain the index of the predecessor of any point. Using this matrix, the path used can be retraced. This is especially important when the weights are not expressed in distances."
   ]
  },
  {
   "cell_type": "code",
   "execution_count": 41,
   "metadata": {
    "collapsed": false
   },
   "outputs": [
    {
     "name": "stdout",
     "output_type": "stream",
     "text": [
      "Weights:\n",
      "[[  0.           4.71080554  10.35393083   7.4777414   10.13549658]\n",
      " [  4.71080554   0.          15.06473637   5.17410167   9.00725089]\n",
      " [ 10.35393083  15.06473637   0.          14.90575613  18.92686321]\n",
      " [  7.4777414    5.17410167  14.90575613   0.          14.18135257]\n",
      " [ 10.13549658   9.00725089  18.92686321  14.18135257   0.        ]]\n",
      "Predecessors:\n",
      "[[-9999     0    12     0     9]\n",
      " [    1 -9999    12     1     9]\n",
      " [   12     0 -9999    17    10]\n",
      " [    3     3    17 -9999     9]\n",
      " [   15    13     6     1 -9999]]\n"
     ]
    },
    {
     "name": "stderr",
     "output_type": "stream",
     "text": [
      "/home/mirko/anaconda3/envs/py3-dev/lib/python3.5/site-packages/numpy/ma/core.py:2296: RuntimeWarning: invalid value encountered in less_equal\n",
      "  mabs(xnew - value), atol + rtol * mabs(value))\n"
     ]
    }
   ],
   "source": [
    "# calculate it\n",
    "weights, pre = dijkstra(cs, return_predecessors=True)\n",
    "\n",
    "print('Weights:')\n",
    "print(weights[:5,:5])\n",
    "print('Predecessors:')\n",
    "print(pre[:5,:5])"
   ]
  },
  {
   "cell_type": "markdown",
   "metadata": {},
   "source": [
    "Now let's look at our distance and example from above, the connection of point 11 and 19:"
   ]
  },
  {
   "cell_type": "code",
   "execution_count": 42,
   "metadata": {
    "collapsed": false
   },
   "outputs": [
    {
     "name": "stdout",
     "output_type": "stream",
     "text": [
      "Euclidean: 4.92397535541\n",
      "Weights:   6.09832215168\n"
     ]
    }
   ],
   "source": [
    "print('Euclidean:', distance_eu[11,19])\n",
    "print('Weights:  ', weights[11,19])"
   ]
  },
  {
   "cell_type": "code",
   "execution_count": 45,
   "metadata": {
    "collapsed": false
   },
   "outputs": [
    {
     "name": "stdout",
     "output_type": "stream",
     "text": [
      "Path 11:19:  6 - 12 - 3 - 14\n"
     ]
    }
   ],
   "source": [
    "# get the actual path from 11 to 19\n",
    "\n",
    "start = 14\n",
    "finish = 6\n",
    "path = [finish]\n",
    "\n",
    "while True:\n",
    "    next_segment = pre[start, path[-1]]\n",
    "    if next_segment == -9999:\n",
    "        # no connection: break\n",
    "        break\n",
    "    elif next_segment == start:\n",
    "        # finished: break\n",
    "        break\n",
    "    else:\n",
    "        # new segment, add to path\n",
    "        path.append(next_segment)\n",
    "path.append(start)\n",
    "reversed(path)\n",
    "\n",
    "print('Path 11:19: ', ' - '.join(['%d' % _ for _ in path]))"
   ]
  },
  {
   "cell_type": "code",
   "execution_count": 44,
   "metadata": {
    "collapsed": false
   },
   "outputs": [
    {
     "data": {
      "image/png": "[encoded data removed]",
      "text/plain": [
       "<matplotlib.figure.Figure at 0x7f3fbcdb35c0>"
      ]
     },
     "metadata": {},
     "output_type": "display_data"
    }
   ],
   "source": [
    "# plot\n",
    "fig, ax = plt.subplots(1,1, figsize=(8,8))\n",
    "\n",
    "# plot the vertices\n",
    "ax.plot(nodes[:,0], nodes[:,1], linestyle='', marker='o', color='gray')\n",
    "\n",
    "for i, node in enumerate(nodes):\n",
    "    ax.text(node[0], node[1] *1.01, '%d' % i, color='gray')\n",
    "\n",
    "# plot the edges\n",
    "for edge in edges:\n",
    "    ax.plot(nodes[edge,][:,0], nodes[edge,][:,1], linestyle='-', color='k')\n",
    "\n",
    "# plot start and end point\n",
    "ax.plot(nodes[path[0]][0], nodes[path[0]][1], 'or', markersize=9)\n",
    "ax.plot(nodes[path[-1]][0], nodes[path[-1]][1], 'og', markersize=9)\n",
    "\n",
    "# plot the path\n",
    "for i in range(1, len(path)):\n",
    "    ax.plot(nodes[(path[i - 1], path[i]),][:,0], nodes[(path[i - 1], path[i]),][:,1], '-g', lw=2)"
   ]
  },
  {
   "cell_type": "markdown",
   "metadata": {},
   "source": [
    "##### excercise"
   ]
  },
  {
   "cell_type": "markdown",
   "metadata": {},
   "source": [
    "Redo the example above based on the manhattan distance matrix:"
   ]
  },
  {
   "cell_type": "code",
   "execution_count": null,
   "metadata": {
    "collapsed": false
   },
   "outputs": [],
   "source": [
    ""
   ]
  }
 ],
 "metadata": {
  "anaconda-cloud": {},
  "kernelspec": {
   "display_name": "Python [conda env:py3-dev]",
   "language": "python",
   "name": "conda-env-py3-dev-py"
  },
  "language_info": {
   "codemirror_mode": {
    "name": "ipython",
    "version": 3.0
   },
   "file_extension": ".py",
   "mimetype": "text/x-python",
   "name": "python",
   "nbconvert_exporter": "python",
   "pygments_lexer": "ipython3",
   "version": "3.5.2"
  }
 },
 "nbformat": 4,
 "nbformat_minor": 0
}