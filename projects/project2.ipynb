{
 "cells": [
  {
   "cell_type": "code",
   "execution_count": 1,
   "metadata": {},
   "outputs": [],
   "source": [
    "# Please convert notebook to python file to use it in the user interface\n",
    "\n",
    "import pandas as pd\n",
    "import numpy as np\n",
    "import requests\n",
    "import matplotlib.pyplot as plt\n",
    "from scipy.interpolate import interp1d\n",
    "from scipy.optimize import curve_fit\n",
    "from numpy import poly1d"
   ]
  },
  {
   "cell_type": "markdown",
   "metadata": {},
   "source": [
    "a)\t(10P + 2P) \n",
    "For a short recap, extend the used polynomial functions by adding 5th  and 6th order polynomial \n",
    "function to your repository. \n",
    "\n",
    "Generate 10 new data sets based on the gamma distribution using the code from the lesson. \n",
    "\n",
    "Automatically fit each of the polynomial functions to each of the data sets \n",
    "and evaluate the fit using the RMSE and the Integral up to the ‘last’ point (the one with largest X value)\n",
    ". \n",
    "Present the model performance to the user in a meaningful short printed statement or graph. \n",
    "This evaluation shall be based upon all 10 data sets. \n",
    "\n",
    "Bonus: \n",
    "Avoid scripting and wrap anything into meaningful functions."
   ]
  },
  {
   "cell_type": "code",
   "execution_count": 35,
   "metadata": {},
   "outputs": [],
   "source": [
    "def integral_rmse(model, nsim=10):\n",
    "        \n",
    "        # define the arrays which will be returned\n",
    "        integral = np.arange(nsim)\n",
    "        rmse = np.arange(nsim)\n",
    "        \n",
    "        for sim in range(nsim):\n",
    "            \n",
    "            # create new x values and y-values from the gamma distribution\n",
    "            x = np.linspace(0,10, num=15)  \n",
    "            y = np.random.gamma(1.5, 7, size=15)\n",
    "\n",
    "            # fit the model to the y-values\n",
    "            cof = curve_fit(model, x, y)[0] # get the coefficients\n",
    "\n",
    "            # Calculate the Integral:\n",
    "            p = poly1d([_ for _ in cof])  # create a polynom function from the coefficients of the fitted polynom\n",
    "            integral[sim] = p.integ()(max(x))  # calculate the integral from 0 to the maximum x-value\n",
    "\n",
    "            # Calculate the RMSE\n",
    "            predictions = [model(values, *cof) for values in x]\n",
    "            rmse[sim] = np.sqrt(((predictions - y) ** 2).mean())\n",
    "        \n",
    "        return(integral, rmse)"
   ]
  },
  {
   "cell_type": "code",
   "execution_count": 25,
   "metadata": {},
   "outputs": [],
   "source": [
    "def poly_eval(nsim=10):\n",
    "    \n",
    "    # Define the polynom functions\n",
    "    poly2 = lambda x,a,b,c: a*x**2 + b*x + c\n",
    "    poly3 = lambda x,a,b,c,d: a*x**3 + b*x**2 + c*x + d\n",
    "    poly4 = lambda x,a,b,c,d,e: a*x**4 + b*x**3 + c*x**2 + d*x + e\n",
    "    poly5 = lambda x,a,b,c,d,e,f: a*x**5 + b*x**4 + c*x**3 + d*x**2 + e*x**1 + f\n",
    "    poly6 = lambda x,a,b,c,d,e,f,g: a*x**6 + b*x**5 + c*x**4 + d*x**3 + e*x**2 + f*x**1 + g\n",
    "\n",
    "    # list of the integral values, one array for every model\n",
    "    integrals = [integral_rmse(model = m, nsim=nsim)[0] for m in (poly2, poly3, poly4, poly5, poly6)]\n",
    "    \n",
    "    # list of rmse values, one array for every model\n",
    "    rmses = [integral_rmse(model = m, nsim=nsim)[0] for m in (poly2, poly3, poly4, poly5, poly6)]\n",
    "    \n",
    "    # plot\n",
    "    fig, ax = plt.subplots(1,2)\n",
    "\n",
    "    ax.flatten()[0].boxplot(integrals)\n",
    "    ax.flatten()[0].set_xticklabels(['Poly2', 'Poly3', 'Poly4', 'Poly5', 'Poly6'])\n",
    "    ax.flatten()[0].set_title('Boxplots of the calculated Integrals')\n",
    "    ax.flatten()[0].set_ylabel('Integral values')\n",
    "    \n",
    "    ax.flatten()[1].boxplot(rmses)\n",
    "    ax.flatten()[1].set_xticklabels(['Poly2', 'Poly3', 'Poly4', 'Poly5', 'Poly6'])\n",
    "    ax.flatten()[1].set_title('Boxplots of the calculated RMSE values')\n",
    "    ax.flatten()[1].set_ylabel('RMSE values')\n",
    "    \n",
    "    return plt.show()"
   ]
  },
  {
   "cell_type": "code",
   "execution_count": 78,
   "metadata": {},
   "outputs": [],
   "source": [
    "# test the function with 10 simulations\n",
    "poly_eval(10)"
   ]
  },
  {
   "cell_type": "markdown",
   "metadata": {},
   "source": [
    "b)\t(5P) \n",
    "Remind your geometry lesson from school. Calculate the perpendicular bisector of the the vector AB, with A (1 1) and B (5 2) \n",
    "Solve this task analytically and give the exact definition of the Line. \n",
    "(Remind: the Line is of infinite length, while the Vector has a length). \n",
    "\n",
    "Print the definition of that line and the angle between the line and each of two axis (exact and numerical solution)."
   ]
  },
  {
   "cell_type": "code",
   "execution_count": 72,
   "metadata": {},
   "outputs": [],
   "source": [
    "import sympy\n",
    "from matplotlib import patches\n",
    "from sympy.geometry import *\n",
    "# import shapely\n",
    "# from shapely.geometry import Point as shapely_Point\n",
    "# from shapely.geometry import Line as shapely_Line"
   ]
  },
  {
   "cell_type": "code",
   "execution_count": 77,
   "metadata": {},
   "outputs": [],
   "source": [
    "#ANALYTICAL\n",
    "\n",
    "# Define the points\n",
    "A = Point(1,1)\n",
    "B = Point(5,2)\n",
    "\n",
    "# Calculate the distance (radius of the circle)\n",
    "r = A.distance(B)\n",
    "\n",
    "# Create two Circles with the radius\n",
    "CA = Circle(A, r)\n",
    "CB = Circle(B, r)\n",
    "\n",
    "# calculate intersection points of the two circles\n",
    "i1, i2 = CA.intersection(CB)\n",
    "i1??\n",
    "\n",
    "# create a line which intersects the two points\n",
    "pbs = Line(i1, i2)\n",
    "pbs.equation()\n",
    "\n",
    "# Create axes as Lines\n",
    "x_axis = Line(Point(0,0), Point(0,1))\n",
    "y_axis = Line(Point(0,0), Point(1,0))\n",
    "\n",
    "x_angle = pbs.angle_between(x_axis)\n",
    "y_angle = pbs.angle_between(y_axis)"
   ]
  },
  {
   "cell_type": "code",
   "execution_count": 75,
   "metadata": {},
   "outputs": [
    {
     "ename": "NameError",
     "evalue": "name 'shapely_Point' is not defined",
     "traceback": [
      "\u001b[1;31m---------------------------------------------------------------------------\u001b[0m\n\u001b[1;31mNameError\u001b[0m                                 Traceback (most recent call last)",
      "\u001b[1;32m<ipython-input-75-b20a7419a14b>\u001b[0m in \u001b[0;36m<module>\u001b[1;34m()\u001b[0m\n\u001b[0;32m      3\u001b[0m \u001b[1;33m\u001b[0m\u001b[0m\n\u001b[0;32m      4\u001b[0m \u001b[1;31m# Define the points\u001b[0m\u001b[1;33m\u001b[0m\u001b[1;33m\u001b[0m\u001b[0m\n\u001b[1;32m----> 5\u001b[1;33m \u001b[0mAn\u001b[0m \u001b[1;33m=\u001b[0m \u001b[0mshapely_Point\u001b[0m\u001b[1;33m(\u001b[0m\u001b[1;36m1\u001b[0m\u001b[1;33m,\u001b[0m\u001b[1;36m1\u001b[0m\u001b[1;33m)\u001b[0m\u001b[1;33m\u001b[0m\u001b[0m\n\u001b[0m\u001b[0;32m      6\u001b[0m \u001b[0mBn\u001b[0m \u001b[1;33m=\u001b[0m \u001b[0mshapely_Point\u001b[0m\u001b[1;33m(\u001b[0m\u001b[1;36m5\u001b[0m\u001b[1;33m,\u001b[0m\u001b[1;36m2\u001b[0m\u001b[1;33m)\u001b[0m\u001b[1;33m\u001b[0m\u001b[0m\n\u001b[0;32m      7\u001b[0m \u001b[1;33m\u001b[0m\u001b[0m\n",
      "\u001b[1;31mNameError\u001b[0m: name 'shapely_Point' is not defined"
     ],
     "output_type": "error"
    }
   ],
   "source": [
    "# NUMERICAL \n",
    "\n",
    "# Define the points\n",
    "An = shapely_Point(1,1)\n",
    "Bn = shapely_Point(5,2)\n",
    "\n",
    "# Calculate the distance (radius of the circle)\n",
    "rn = An.distance(Bn)\n",
    "\n",
    "# Create two Circles with the radius\n",
    "CAn = An.buffer(rn)\n",
    "CBn = Bn.buffer(rn)\n",
    "\n",
    "# calculate intersection points of the two circles\n",
    "i1n, i2n = CAn.intersection(CBn)\n",
    "\n",
    "# create a line which intersects the two points\n",
    "pbsn = shapely_Line(i1n, i2n)\n",
    "pbsn.equation()\n",
    "\n",
    "# Create axes as Lines\n",
    "x_axisn = Line(shapely_Point(0,0), shapely_Point(0,1))\n",
    "y_axisn = Line(shapely_Point(0,0), shapely_Point(1,0))\n",
    "\n",
    "x_anglen = pbsn.angle_between(x_axisn)\n",
    "y_anglen = pbsn.angle_between(y_axisn)"
   ]
  },
  {
   "cell_type": "code",
   "execution_count": null,
   "metadata": {},
   "outputs": [],
   "source": [
    "# Solution\n",
    "print('The exact definition of the line is: ', pbs.equation())\n",
    "print('The numerical definition of the line is: ', pbsn.equation())\n",
    "print('The exact angle to the x-axis ist: ', x_angle)\n",
    "print('The exact angle to the y-axis is: ', y_anglen)\n",
    "print('The numerical angle to the x-axis ist: ', x_anglen)\n",
    "print('The numerical angle to the y-axis is: ', y_anglen)"
   ]
  },
  {
   "cell_type": "code",
   "execution_count": null,
   "metadata": {},
   "outputs": [],
   "source": [
    ""
   ]
  }
 ],
 "metadata": {
  "name": "",
  "signature": "sha256:4a145ad275a76088fa751564020775f16970d73309c1b84f82a51746d757c173"
 },
 "nbformat": 4,
 "nbformat_minor": 0
}